{
 "cells": [
  {
   "cell_type": "code",
   "execution_count": 1,
   "metadata": {},
   "outputs": [],
   "source": [
    "import boto3\n",
    "import io\n",
    "import re\n",
    "import numpy as np\n",
    "import os\n",
    "import xml.etree.ElementTree as ET \n",
    "from google.cloud import vision\n",
    "import requests\n",
    "from time import time\n",
    "from utilities.score_computors import jaccard_similarity\n",
    "from utilities.pythonDB import writeToDB"
   ]
  },
  {
   "cell_type": "code",
   "execution_count": 2,
   "metadata": {},
   "outputs": [],
   "source": [
    "def extract_clean_str(original_str):\n",
    "    original_str = original_str.replace('<br/>', '')\n",
    "    return re.sub('[^a-zA-Z0-9]+', ' ', original_str, flags=re.UNICODE).lower().strip().replace(' ', '')\n",
    "\n",
    "def get_mapped(path):\n",
    "    key_map, dict_idx = {}, 0\n",
    "    for r, _, f in os.walk(dir_path):\n",
    "        for file in f:\n",
    "            if '.JPG' in file or '.jpg' in file:\n",
    "                key_map[dict_idx] = file\n",
    "                dict_idx += 1\n",
    "    idxs = list(key_map.keys())          \n",
    "    shuffled_idxs = np.random.randint(0, len(idxs), len(idxs))\n",
    "    return key_map, shuffled_idxs\n",
    "\n",
    "def fetch_from_xml(path, file):\n",
    "    tree = ET.parse(os.path.join(path, file)).getroot()  \n",
    "    return extract_clean_str(''.join([e.attrib['char'] for e in tree.iter(tag='character')]))"
   ]
  },
  {
   "cell_type": "code",
   "execution_count": 3,
   "metadata": {},
   "outputs": [],
   "source": [
    "class RegonizeText():\n",
    "    def __init__(self, base, file): \n",
    "        with io.open(os.path.join(base, file), 'rb') as image_file:\n",
    "            content = (image_file.read())\n",
    "        self.content = content\n",
    "        self.base, self.file, self.actual_str, self.detected_str = base, file, '', ''\n",
    "        self.label = ''\n",
    "        self.start = time()\n",
    "        \n",
    "    def return_function(self, name):\n",
    "        self.label = name\n",
    "        status, score =  getattr(self, 'if_' + name)()\n",
    "        compute_time = time() - self.start\n",
    "        dataset = dir_path.split('/')[1]\n",
    "        bag = (self.file, dataset, self.label, status, score, compute_time, self.actual_str, self.detected_str)\n",
    "        writeToDB(bag)\n",
    "    def compute_ground_truth(self):\n",
    "        ''' \n",
    "            Status = {-1: 'XML File Missing', -2: 'Error in XML', -3: 'Ground Truth Empty', 0: 'All Correct'} \n",
    "            Return = Ground Truth, Status\n",
    "        \n",
    "        '''\n",
    "        xml_file = self.file[:len(self.file)-4] + '.xml' \n",
    "        \n",
    "        if not os.path.exists(os.path.join(self.base, self.file)):\n",
    "            return '', -1\n",
    "        try:\n",
    "            ground_truth_str = fetch_from_xml(dir_path, xml_file)\n",
    "        except: \n",
    "            return '', -2\n",
    "        \n",
    "        if len(ground_truth_str) == 0:\n",
    "            return '', -3\n",
    "        else:\n",
    "            self.actual_str = ground_truth_str\n",
    "            return ground_truth_str, 0\n",
    "\n",
    "    def if_aws(self):\n",
    "        ground_truth, xml_status = self.compute_ground_truth()\n",
    "        if xml_status != 0: return xml_status, 0\n",
    "        \n",
    "        imgobj = {'Bytes': self.content}\n",
    "        client=boto3.client('rekognition', region_name='us-east-1')\n",
    "        response=client.detect_text(Image=imgobj)\n",
    "        detected_str = extract_clean_str(''.join([txt['DetectedText'] for txt in response['TextDetections'] \\\n",
    "                                               if txt['Type']=='WORD']))\n",
    "        self.detected_str = detected_str\n",
    "        score = jaccard_similarity(detected_str, ground_truth)\n",
    "        return 0, score\n",
    "\n",
    "    def if_gc(self):\n",
    "        ground_truth, xml_status = self.compute_ground_truth()\n",
    "        if xml_status != 0: return xml_status, 0\n",
    "        \n",
    "        vision_client = vision.ImageAnnotatorClient()\n",
    "        image = vision.types.Image(content=self.content)\n",
    "        text_detection_response = vision_client.text_detection(image=image)\n",
    "        detected_str = extract_clean_str(text_detection_response.full_text_annotation.text)\n",
    "        self.detected_str = detected_str\n",
    "        score = jaccard_similarity(detected_str, ground_truth)\n",
    "        return 0, score\n",
    "    \n",
    "    def if_azure(self):\n",
    "        ground_truth, xml_status = self.compute_ground_truth()\n",
    "        if xml_status != 0: return xml_status, 0\n",
    "        \n",
    "        subscription_key, endpoint = os.environ['COMPUTER_VISION_SUBSCRIPTION_KEY'], os.environ['COMPUTER_VISION_ENDPOINT']\n",
    "        ocr_url = endpoint + \"vision/v2.1/ocr\"\n",
    "        headers = {'Ocp-Apim-Subscription-Key': subscription_key, 'Content-Type': 'application/octet-stream'}\n",
    "        params = {'detectOrientation': 'true'}\n",
    "        response = requests.post(ocr_url, headers=headers, params=params, data=self.content)\n",
    "        response.raise_for_status()\n",
    "        \n",
    "        lines_info = [region[\"lines\"] for region in response.json()[\"regions\"]]\n",
    "        detected_str = extract_clean_str(''.join([word_info['text'] for line in lines_info \\\n",
    "                                  for word_metadata in line for word_info in word_metadata[\"words\"]]))\n",
    "        self.detected_str = detected_str\n",
    "        score = jaccard_similarity(detected_str, ground_truth)\n",
    "        return 0, score"
   ]
  },
  {
   "cell_type": "code",
   "execution_count": 4,
   "metadata": {},
   "outputs": [
    {
     "name": "stdout",
     "output_type": "stream",
     "text": [
      "Iterating for File Name = DSC03787.JPG\n",
      "Iterating for File Name = DSC03787.JPG\n"
     ]
    }
   ],
   "source": [
    "dir_path = 'datasets/KAIST/English/'\n",
    "dict_files, files_idx = get_mapped(dir_path)\n",
    "shuffled_idx = np.random.randint(0, len(files_idx), len(files_idx))\n",
    "\n",
    "for idx in shuffled_idx[:2]:\n",
    "    file_name = dict_files.get(shuffled_idx[122])\n",
    "    print (\"Iterating for File Name = {}\".format(file_name))\n",
    "    \n",
    "    RegonizeText(dir_path, file_name).return_function('azure')"
   ]
  },
  {
   "cell_type": "code",
   "execution_count": null,
   "metadata": {},
   "outputs": [],
   "source": [
    "\n",
    "    "
   ]
  },
  {
   "cell_type": "code",
   "execution_count": null,
   "metadata": {},
   "outputs": [],
   "source": [
    "for idx in shuffled_idx[:2]:\n",
    "    file_name = dict_files.get(shuffled_idx[122])\n",
    "    print (\"Iterating for File Name = {}\".format(file_name))\n",
    "    RegonizeText(dir_path, file_name).return_function('aws')"
   ]
  },
  {
   "cell_type": "code",
   "execution_count": null,
   "metadata": {},
   "outputs": [],
   "source": [
    "for idx in shuffled_idx[:2]:\n",
    "    file_name = dict_files.get(shuffled_idx[122])\n",
    "    print (\"Iterating for File Name = {}\".format(file_name))\n",
    "    \n",
    "    RegonizeText(dir_path, file_name).return_function('gc')"
   ]
  }
 ],
 "metadata": {
  "kernelspec": {
   "display_name": "Python (cs682)",
   "language": "python",
   "name": "cs682"
  },
  "language_info": {
   "codemirror_mode": {
    "name": "ipython",
    "version": 3
   },
   "file_extension": ".py",
   "mimetype": "text/x-python",
   "name": "python",
   "nbconvert_exporter": "python",
   "pygments_lexer": "ipython3",
   "version": "3.6.9"
  }
 },
 "nbformat": 4,
 "nbformat_minor": 2
}
