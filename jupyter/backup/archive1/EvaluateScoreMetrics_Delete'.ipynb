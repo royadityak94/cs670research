{
 "cells": [
  {
   "cell_type": "code",
   "execution_count": 1,
   "metadata": {},
   "outputs": [],
   "source": [
    "import nltk"
   ]
  },
  {
   "cell_type": "code",
   "execution_count": 38,
   "metadata": {},
   "outputs": [
    {
     "name": "stdout",
     "output_type": "stream",
     "text": [
      "1.133422688662942e-154\n"
     ]
    }
   ],
   "source": [
    "sent1 = ['Got', 'new', 's1']\n",
    "sent2 = ['Got', 'new', 's1']\n",
    "references = [sent2]\n",
    "BLEUscore = nltk.translate.bleu_score.sentence_bleu(references, sent1)\n",
    "print(BLEUscore)"
   ]
  },
  {
   "cell_type": "code",
   "execution_count": 126,
   "metadata": {},
   "outputs": [
    {
     "data": {
      "text/plain": [
       "0.5946035575013605"
      ]
     },
     "execution_count": 126,
     "metadata": {},
     "output_type": "execute_result"
    }
   ],
   "source": [
    "from nltk.translate.bleu_score import SmoothingFunction, sentence_bleu\n",
    "\n",
    "sent1 = ['sent']\n",
    "sent2 = ['sent']\n",
    "\n",
    "cc = SmoothingFunction()\n",
    "sentence_bleu([sent1], sent2, smoothing_function=cc.method2)"
   ]
  },
  {
   "cell_type": "code",
   "execution_count": 127,
   "metadata": {},
   "outputs": [
    {
     "data": {
      "text/plain": [
       "0.3535533905932738"
      ]
     },
     "execution_count": 127,
     "metadata": {},
     "output_type": "execute_result"
    }
   ],
   "source": [
    "from nltk.translate.bleu_score import SmoothingFunction, sentence_bleu\n",
    "cc = SmoothingFunction()\n",
    "sentence_bleu([sent2], sent1, smoothing_function=cc.method3)"
   ]
  },
  {
   "cell_type": "code",
   "execution_count": 55,
   "metadata": {},
   "outputs": [],
   "source": [
    "from nltk.translate import nist_score\n",
    "#nist_score([sent2], sent1)"
   ]
  },
  {
   "cell_type": "code",
   "execution_count": 135,
   "metadata": {},
   "outputs": [
    {
     "data": {
      "text/plain": [
       "0"
      ]
     },
     "execution_count": 135,
     "metadata": {},
     "output_type": "execute_result"
    }
   ],
   "source": [
    "from nltk.metrics.distance import edit_distance, binary_distance\n",
    "sent1 = 'sss'\n",
    "sent2 = 'sss'\n",
    "edit_distance(sent1, sent2)"
   ]
  },
  {
   "cell_type": "code",
   "execution_count": 129,
   "metadata": {},
   "outputs": [
    {
     "data": {
      "text/plain": [
       "3"
      ]
     },
     "execution_count": 129,
     "metadata": {},
     "output_type": "execute_result"
    }
   ],
   "source": [
    "edit_distance('sent1', 'sentaww')"
   ]
  },
  {
   "cell_type": "code",
   "execution_count": 19,
   "metadata": {},
   "outputs": [
    {
     "data": {
      "text/plain": [
       "7.57965434483665e-155"
      ]
     },
     "execution_count": 19,
     "metadata": {},
     "output_type": "execute_result"
    }
   ],
   "source": [
    "import nltk\n",
    "hypothesis = ['This', 'is', 'cat', 'alpha', 'new', 'bizantine'] \n",
    "reference = ['This', 'is', 'a']\n",
    "references = [reference] # list of references for 1 sentence.\n",
    "list_of_references = [references] # list of references for all sentences in corpus.\n",
    "list_of_hypotheses = [hypothesis] # list of hypotheses that corresponds to list of references.\n",
    "nltk.translate.bleu_score.corpus_bleu(list_of_references, list_of_hypotheses)\n",
    "# 0.6025286104785453\n",
    "# >>> nltk.translate.bleu_score.sentence_bleu(references, hypothesis)\n",
    "# 0.6025286104785453"
   ]
  },
  {
   "cell_type": "code",
   "execution_count": 123,
   "metadata": {},
   "outputs": [],
   "source": [
    "sent1, sent2 = 'morealpha', 'morealpha'"
   ]
  },
  {
   "cell_type": "code",
   "execution_count": 124,
   "metadata": {},
   "outputs": [
    {
     "data": {
      "text/plain": [
       "1"
      ]
     },
     "execution_count": 124,
     "metadata": {},
     "output_type": "execute_result"
    }
   ],
   "source": [
    "### Exact Match \n",
    "def is_exact_match(sent1, sent2):\n",
    "    return 1 if sent1 == sent2 else 0\n",
    "is_exact_match(sent1, sent2)"
   ]
  },
  {
   "cell_type": "code",
   "execution_count": null,
   "metadata": {},
   "outputs": [],
   "source": [
    "#N-grams in sequence match\n",
    "def n_grams_sequence_match(sent1, sent2):"
   ]
  },
  {
   "cell_type": "code",
   "execution_count": null,
   "metadata": {},
   "outputs": [],
   "source": []
  },
  {
   "cell_type": "code",
   "execution_count": null,
   "metadata": {},
   "outputs": [],
   "source": []
  }
 ],
 "metadata": {
  "kernelspec": {
   "display_name": "Python (cs682)",
   "language": "python",
   "name": "cs682"
  },
  "language_info": {
   "codemirror_mode": {
    "name": "ipython",
    "version": 3
   },
   "file_extension": ".py",
   "mimetype": "text/x-python",
   "name": "python",
   "nbconvert_exporter": "python",
   "pygments_lexer": "ipython3",
   "version": "3.6.9"
  }
 },
 "nbformat": 4,
 "nbformat_minor": 2
}
